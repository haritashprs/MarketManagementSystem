{
  "nbformat": 4,
  "nbformat_minor": 0,
  "metadata": {
    "colab": {
      "provenance": [],
      "include_colab_link": true
    },
    "kernelspec": {
      "name": "python3",
      "display_name": "Python 3"
    },
    "language_info": {
      "name": "python"
    }
  },
  "cells": [
    {
      "cell_type": "markdown",
      "metadata": {
        "id": "view-in-github",
        "colab_type": "text"
      },
      "source": [
        "<a href=\"https://colab.research.google.com/github/haritashprs/MarketManagementSystem/blob/master/pythonTutorialsUCC.ipynb\" target=\"_parent\"><img src=\"https://colab.research.google.com/assets/colab-badge.svg\" alt=\"Open In Colab\"/></a>"
      ]
    },
    {
      "cell_type": "code",
      "execution_count": 1,
      "metadata": {
        "colab": {
          "base_uri": "https://localhost:8080/"
        },
        "id": "LwEsMTxjc-Ou",
        "outputId": "bef76f7e-4d42-4ee6-945e-1332b1a3fd7e"
      },
      "outputs": [
        {
          "output_type": "stream",
          "name": "stdout",
          "text": [
            "24\n"
          ]
        }
      ],
      "source": [
        "a = 12\n",
        "b = 12\n",
        "c = a+ b\n",
        "print(c)"
      ]
    },
    {
      "cell_type": "code",
      "source": [
        "#exercise 1\n",
        "def printDivisor(num1):\n",
        "    arr = []\n",
        "    i = 1\n",
        "    while i <= num:\n",
        "        if(num%i == 0):\n",
        "            arr.append(i)\n",
        "        i = i+1\n",
        "    print('list of divisor ',arr)\n",
        "\n",
        "num = int(input('enter a number'))\n",
        "printDivisor(num)"
      ],
      "metadata": {
        "colab": {
          "base_uri": "https://localhost:8080/"
        },
        "id": "LaaUDAvDfIDm",
        "outputId": "e393b957-9fe5-4820-833d-f3a47612df9d"
      },
      "execution_count": 2,
      "outputs": [
        {
          "output_type": "stream",
          "name": "stdout",
          "text": [
            "enter a number12\n",
            "list of divisor  [1, 2, 3, 4, 6, 12]\n"
          ]
        }
      ]
    },
    {
      "cell_type": "code",
      "source": [
        "#exercise 2\n",
        "Str1 = 'Hello'\n",
        "Str2 = 'Mynameis'\n",
        "len = len(Str2)/2\n",
        "Str3 = Str2[:int(len)]+Str1+Str2[int(len+1):]\n",
        "print(Str3)"
      ],
      "metadata": {
        "colab": {
          "base_uri": "https://localhost:8080/"
        },
        "id": "q3zopIMofKtS",
        "outputId": "0f4b5d1d-c3de-41ae-f645-eb5d3015f1e7"
      },
      "execution_count": 3,
      "outputs": [
        {
          "output_type": "stream",
          "name": "stdout",
          "text": [
            "MynaHelloeis\n"
          ]
        }
      ]
    },
    {
      "cell_type": "code",
      "source": [
        "#exercise 3\n",
        "import re\n",
        "from re import findall\n",
        "Str4 = 'KALPsjwbdASKJh'\n",
        "Str5=re.findall('[a-z]',Str4)\n",
        "Str6=re.findall('[A-Z]',Str4)\n",
        "Str7=''\n",
        "for i in Str5:\n",
        "    Str7=Str7+i\n",
        "for j in Str6:\n",
        "    Str7=Str7+j\n",
        "print(Str7)"
      ],
      "metadata": {
        "colab": {
          "base_uri": "https://localhost:8080/"
        },
        "id": "_DxMWv5IfO5A",
        "outputId": "490cb124-2946-4120-a434-5d42f6330586"
      },
      "execution_count": 5,
      "outputs": [
        {
          "output_type": "stream",
          "name": "stdout",
          "text": [
            "sjwbdhKALPASKJ\n"
          ]
        }
      ]
    },
    {
      "cell_type": "code",
      "source": [
        "#exercise 4\n",
        "Str8 = 'Hello We have 7 Cars 1 Bikes 9 Flats'\n",
        "Str9=re.findall('[0-9]', Str8)\n",
        "print(Str9)\n",
        "count = 0\n",
        "for i in Str9:\n",
        "    count = count+1;\n",
        "print('Total integers are ',count)"
      ],
      "metadata": {
        "colab": {
          "base_uri": "https://localhost:8080/"
        },
        "id": "DbGTW3AqfaYN",
        "outputId": "0815ae33-5469-4034-ea22-0a98fcefffd0"
      },
      "execution_count": 6,
      "outputs": [
        {
          "output_type": "stream",
          "name": "stdout",
          "text": [
            "['7', '1', '9']\n",
            "Total integers are  3\n"
          ]
        }
      ]
    },
    {
      "cell_type": "code",
      "source": [
        "#exercise 5\n",
        "String_1 = 'ABCDdnjs12,!*@&!*';\n",
        "String_2=re.findall('[A-Z]',String_1)\n",
        "String_3=findall('[^\\\\w\\\\s]',String_1)\n",
        "String_4=re.findall('[a-z]',String_1)\n",
        "String_5=re.findall('[0-9]',String_1)\n",
        "array_collect = []\n",
        "counter=0\n",
        "for i in String_2:\n",
        "    counter=counter+1\n",
        "array_collect.append(counter)\n",
        "counter=0\n",
        "for i in String_3:\n",
        "    counter=counter+1\n",
        "array_collect.append(counter)\n",
        "counter=0\n",
        "for i in String_4:\n",
        "    counter=counter+1\n",
        "array_collect.append(counter)\n",
        "counter=0\n",
        "for i in String_5:\n",
        "    counter=counter+1\n",
        "array_collect.append(counter)\n",
        "print(\n",
        "    array_collect\n",
        ")\n",
        "\n",
        "def sumazation_function(num):\n",
        "    i = 0\n",
        "    sumColelctor=0\n",
        "    while i<=num:\n",
        "        sumColelctor = sumColelctor+i\n",
        "        i = i+1\n",
        "    print(sumColelctor)\n",
        "\n",
        "number_enter = int(input('Enter any positive number othe rthan 0'))\n",
        "if(number_enter <= 0):\n",
        "    print('enter positive number')\n",
        "else:\n",
        "    sumazation_function(number_enter)\n"
      ],
      "metadata": {
        "colab": {
          "base_uri": "https://localhost:8080/"
        },
        "id": "7aJbqFrDfgAH",
        "outputId": "aae5b5d4-c4ce-4ff4-f100-8a53ea4f59b9"
      },
      "execution_count": 8,
      "outputs": [
        {
          "output_type": "stream",
          "name": "stdout",
          "text": [
            "[4, 7, 4, 2]\n",
            "Enter any positive number othe rthan 05\n",
            "15\n"
          ]
        }
      ]
    },
    {
      "cell_type": "code",
      "source": [
        "#exercise 6\n",
        "number_enter_Two = int(input('Enter any positive number othe rthan 0'))\n",
        "\n",
        "def summasitionFunction(num_Two):\n",
        "  sum_Total = 0\n",
        "  for i in range(num_Two):\n",
        "    sum_Total = sum_Total+i\n",
        "  print(sum_Total)\n",
        "\n",
        "summasitionFunction(number_enter_Two)"
      ],
      "metadata": {
        "colab": {
          "base_uri": "https://localhost:8080/"
        },
        "id": "Sl8Y-SWsfv6t",
        "outputId": "2380d998-783e-4853-aebb-291c79a95b4d"
      },
      "execution_count": 13,
      "outputs": [
        {
          "output_type": "stream",
          "name": "stdout",
          "text": [
            "Enter any positive number othe rthan 011\n",
            "55\n"
          ]
        }
      ]
    },
    {
      "cell_type": "markdown",
      "source": [
        "Define a function such that, given a string, it should print all letters except \"a\" and \"s\".\n",
        "e.g. \"MScBIAS\", output = McBI"
      ],
      "metadata": {
        "id": "EqFWmK22jQCZ"
      }
    },
    {
      "cell_type": "code",
      "source": [
        "#exercise 7\n",
        "def print_letters_without_a_or_s(string):\n",
        "  word=''\n",
        "  for char in string:\n",
        "    if((char != 'a'and char != 's') and (char != 'A' and char != 'S')):\n",
        "      word = word+char\n",
        "  print(word)\n",
        "\n",
        "string = \"MScBIAS\"\n",
        "print_letters_without_a_or_s(string)"
      ],
      "metadata": {
        "colab": {
          "base_uri": "https://localhost:8080/"
        },
        "id": "oNhF_RG5hFrP",
        "outputId": "49224b96-9a15-456f-db6f-c65860ebc67a"
      },
      "execution_count": 20,
      "outputs": [
        {
          "output_type": "stream",
          "name": "stdout",
          "text": [
            "McBI\n"
          ]
        }
      ]
    }
  ]
}